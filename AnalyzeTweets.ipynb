{
 "cells": [
  {
   "cell_type": "markdown",
   "metadata": {},
   "source": [
    "Project Goal: predict the number of future retweets a tweet can expect based on tweets so far, words used, and users' follwers"
   ]
  },
  {
   "cell_type": "markdown",
   "metadata": {},
   "source": [
    "I used the Twitter API to make a json of 250,000 tweets with the word \"recipe\" tweeted over an 8-day period.  I then used spark to process that json into a csv file summarizing the tweet's text, it's age, it's number of retweets, hashtags, and followers.  For retweets, I also extracted the age of the original tweet, and the original tweet's user's number of followers.\n",
    "\n",
    "The tweet's text was converted to lowercase and cleaned of punctuation and stop words."
   ]
  },
  {
   "cell_type": "markdown",
   "metadata": {},
   "source": [
    "I setup spark to process the csv"
   ]
  },
  {
   "cell_type": "code",
   "execution_count": 1,
   "metadata": {},
   "outputs": [],
   "source": [
    "import os\n",
    "from pyspark import SparkContext\n",
    "\n",
    "sc = SparkContext(\"local[*]\", \"temp\")\n",
    "\n",
    "def localpath(path):\n",
    "    return 'file://' + str(os.path.abspath(os.path.curdir)) + '/' + path"
   ]
  },
  {
   "cell_type": "code",
   "execution_count": 87,
   "metadata": {},
   "outputs": [],
   "source": [
    "from pyspark.sql import SQLContext\n",
    "from pyspark import SparkContext\n",
    "sqlContext=SQLContext(sc)\n",
    "\n",
    "csv_lines=sc.textFile(localpath('recipe_retweets_2020_12_17.csv'))"
   ]
  },
  {
   "cell_type": "markdown",
   "metadata": {},
   "source": [
    "Using spark, I filtered the csv for lines with all the elements, converted into tuples, filtered original tweets from retweets, and calculated the percent of tweets that were retweeted for each tweet age (0-8 days old) "
   ]
  },
  {
   "cell_type": "code",
   "execution_count": 114,
   "metadata": {},
   "outputs": [],
   "source": [
    "import re\n",
    "from pyspark.sql import SQLContext\n",
    "sqlContext=SQLContext(sc)\n",
    "\n",
    "def good_line(s,n):\n",
    "    el=re.split(',',s)\n",
    "    if len(el)==n:\n",
    "        return True\n",
    "    else:\n",
    "        return False\n",
    "        \n",
    "def from_csv_to_tuple(s):\n",
    "    el=re.split(',',s)\n",
    "    try:\n",
    "        this_id,is_retweet,retweet_no,mins_old,days_old=int(el[0]),int(el[1]),int(el[2]),float(el[3]),float(el[4])\n",
    "    except:\n",
    "        this_id,is_retweet,retweet_no,mins_old,days_old=-1,-1,-1,-1,-1\n",
    "    text=el[5]\n",
    "    try:\n",
    "        retweet_lag=float(el[6])\n",
    "        original_string=' '.join([el[8],el[7],el[9]])\n",
    "    except:\n",
    "        retweet_lag,original_string=-1,'na'\n",
    "    retweet_info=(retweet_lag, original_string)\n",
    "    try:\n",
    "        hashtag_no=int(el[10])\n",
    "    except:\n",
    "        hashtag_no=0\n",
    "    followers=el[11]\n",
    "    return this_id, is_retweet, retweet_no, mins_old, days_old, text, retweet_info, hashtag_no, followers\n",
    "    \n",
    "def add(x,y):\n",
    "    return (x[0]+y[0],x[1]+y[1])\n",
    "\n",
    "def percent_retweeted(x):\n",
    "    return (x[0]/x[1])\n",
    "\n",
    "def summarize_retweets(retweet_info):\n",
    "    retweet_id=retweet_info[0]\n",
    "    original_tweet_info=retweet_info[6][1]\n",
    "    retweet_lag=retweet_info[6][0]\n",
    "    return (original_tweet_info, retweet_lag)\n",
    "\n",
    "def extend_all(x,c):\n",
    "    if not type(c)==list:\n",
    "        c=[c]\n",
    "    if type(x)==list:\n",
    "        x.extend(c)\n",
    "        #x=sorted(set(x))\n",
    "    else:\n",
    "        x=[x]\n",
    "        x.extend(c)\n",
    "        #x=sorted(set(x))\n",
    "    return x\n",
    "\n",
    "def count_retweets(x):\n",
    "    return x[0], len(x[1][1]), x[1][0], x[1][1]\n",
    "\n",
    "def add(x,y):\n",
    "    return x[0]+y[0],x[1]+y[1]\n",
    "\n",
    "def add_retweets(retweet_summary1, retweet_summary2):\n",
    "    all_lags=extend_all(retweet_summary1[0],retweet_summary2[0])\n",
    "    all_ids=extend_all(retweet_summary1[1],retweet_summary2[1])\n",
    "    return all_lags, all_ids\n",
    "\n",
    "def find_retweet_chances(retweet_info):\n",
    "    return (round(retweet_info[4]),(int(retweet_info[2]>0),1))\n",
    "\n",
    "def find_retweet_no(retweet_info):\n",
    "    retweet_cats=['0-2','0-2','0-2','3-5','3-5','3-5','6-8','6-8','6-8']\n",
    "    retweet_age_cat=retweet_cats[round(retweet_info[4])]\n",
    "    return (retweet_age_cat,retweet_info[2])\n",
    "\n",
    "#filter and convert csv to tuples\n",
    "retweet_info=csv_lines.filter(lambda line: good_line(line,12))\\\n",
    "                            .map(lambda line: from_csv_to_tuple(line)) \n",
    "#separate out original tweets from retweets\n",
    "original_tweets=retweet_info.filter(lambda retweet_info: retweet_info[1]==0)\n",
    "total_original_tweets=original_tweets.count()\n",
    "\n",
    "#calculate the percent of tweets that are retweeted based on the numbers of days old the tweet is\n",
    "retweet_chances=original_tweets.map(lambda retweet_info: find_retweet_chances(retweet_info))\\\n",
    "                              .reduceByKey(lambda x,y: add(x,y))\\\n",
    "                              .map(lambda x: (x[0],x[1][0]/x[1][1],x[1]))\\\n",
    "                              .toDF(['days_old','retweeted',])"
   ]
  },
  {
   "cell_type": "code",
   "execution_count": 115,
   "metadata": {},
   "outputs": [
    {
     "data": {
      "text/plain": [
       "158601"
      ]
     },
     "execution_count": 115,
     "metadata": {},
     "output_type": "execute_result"
    }
   ],
   "source": [
    "total_original_tweets"
   ]
  },
  {
   "cell_type": "markdown",
   "metadata": {},
   "source": [
    "I binned the original tweets by their number of retweets to quickly observe that about 87% of tweets are never retweeted.  11% get 1-5 retweets and only 1% get 6 or more retweets.  The tuples below compare (retweet number bin, observed original tweets in bin, percent of all original tweets).  Only 31 out of 158,601 original tweets were retweeted more than 200 times."
   ]
  },
  {
   "cell_type": "code",
   "execution_count": 119,
   "metadata": {},
   "outputs": [
    {
     "data": {
      "text/plain": [
       "[('0', 138866, 0.8755682498849313),\n",
       " ('1-5', 17633, 0.11117836583628098),\n",
       " ('21-60', 347, 0.002187880278182357),\n",
       " ('6-20', 1590, 0.010025157470633855),\n",
       " ('61-200', 134, 0.0008448874849465009),\n",
       " ('>200', 31, 0.00019545904502493678)]"
      ]
     },
     "execution_count": 119,
     "metadata": {},
     "output_type": "execute_result"
    }
   ],
   "source": [
    "def bin_retweet_no(retweet_info):\n",
    "    if retweet_info[2]>200:\n",
    "        return('>200',1)\n",
    "    elif retweet_info[2]>60:\n",
    "        return('61-200',1)\n",
    "    elif retweet_info[2]>20:\n",
    "        return('21-60',1)\n",
    "    elif retweet_info[2]>5:\n",
    "        return('6-20',1)\n",
    "    elif retweet_info[2]>0:\n",
    "        return('1-5',1)\n",
    "    else:\n",
    "        return('0',1)\n",
    "    \n",
    "all_retweet_no=original_tweets.map(lambda retweet_info: bin_retweet_no(retweet_info))\\\n",
    "                              .reduceByKey(lambda x,y: x+y)\\\n",
    "                              .sortByKey()\\\n",
    "                              .map(lambda x: (x[0], x[1], x[1]/total_original_tweets))\\\n",
    "                              .take(6)\n",
    "all_retweet_no"
   ]
  },
  {
   "cell_type": "markdown",
   "metadata": {},
   "source": [
    "I plotted the cumulative density of retweet number for three different tweet ages.  The age of a tweet does not meaningfully affect its retweet number."
   ]
  },
  {
   "cell_type": "code",
   "execution_count": 112,
   "metadata": {},
   "outputs": [
    {
     "data": {
      "text/plain": [
       "Text(0.5, 1.0, 'cumulative density of retweets by tweet age')"
      ]
     },
     "execution_count": 112,
     "metadata": {},
     "output_type": "execute_result"
    },
    {
     "data": {
      "image/png": "[encoded data removed]",
      "text/plain": [
       "<Figure size 576x288 with 1 Axes>"
      ]
     },
     "metadata": {
      "needs_background": "light"
     },
     "output_type": "display_data"
    }
   ],
   "source": [
    "#what is the distribution of retweet number?\n",
    "import matplotlib.pyplot as plt\n",
    "retweet_no=original_tweets.map(lambda retweet_info: find_retweet_no(retweet_info))\\\n",
    "                              .reduceByKey(lambda x,y: extend_all(x,y))\\\n",
    "                              .sortByKey()\\\n",
    "                              .take(3)\n",
    "retweet_no_dict=dict(retweet_no)\n",
    "\n",
    "\n",
    "#what is the distribution of retweet number on tweets for each block of tweet age?\n",
    "fig,ax=plt.subplots(figsize=(8,4))\n",
    "for dict_name in ['0-2','3-5','6-8']:\n",
    "    n_bins=max(retweet_no_dict[dict_name])\n",
    "    n,bins,patches=ax.hist(retweet_no_dict[dict_name],n_bins,density=True,histtype='step',\n",
    "                      cumulative=True,label=('after '+dict_name+' days'))\n",
    "    plt.xlabel('no of retweets')\n",
    "    plt.ylabel('cumulative density')\n",
    "    plt.xlim(-1,15)\n",
    "    plt.ylim(.85,1)\n",
    "handles,labels=ax.get_legend_handles_labels()\n",
    "ax.legend(handles,labels,loc='lower right')\n",
    "plt.grid()\n",
    "plt.title('cumulative density of retweets by tweet age')"
   ]
  },
  {
   "cell_type": "markdown",
   "metadata": {},
   "source": [
    "The age of tweet in days also does not affect its chance of being retweeted."
   ]
  },
  {
   "cell_type": "code",
   "execution_count": 111,
   "metadata": {},
   "outputs": [
    {
     "data": {
      "text/plain": [
       "Text(0.5, 1.0, 'tweet age v. chance it has been retweeted')"
      ]
     },
     "execution_count": 111,
     "metadata": {},
     "output_type": "execute_result"
    },
    {
     "data": {
      "image/png": "[encoded data removed]",
      "text/plain": [
       "<Figure size 432x288 with 1 Axes>"
      ]
     },
     "metadata": {
      "needs_background": "light"
     },
     "output_type": "display_data"
    }
   ],
   "source": [
    "#visualize retweet chances as a function of days since tweet\n",
    "retweet_chances=original_tweets.map(lambda retweet_info: find_retweet_chances(retweet_info))\\\n",
    "                              .reduceByKey(lambda x,y: add(x,y))\\\n",
    "                              .map(lambda x: (x[0],x[1][0]/x[1][1],x[1]))\\\n",
    "                              .toDF(['days_old','retweeted','total'])\n",
    "\n",
    "import matplotlib.pyplot as plt\n",
    "retweet_chances=retweet_chances.toPandas()\n",
    "plt.grid()\n",
    "plt.bar(retweet_chances['days_old'],retweet_chances['retweeted'])\n",
    "plt.xlabel('tweet age in days')\n",
    "plt.ylabel('chance has been retweeted')\n",
    "plt.ylim(0,1)\n",
    "plt.title('tweet age v. chance it has been retweeted')"
   ]
  }
 ],
 "metadata": {
  "kernelspec": {
   "display_name": "Python 3",
   "language": "python",
   "name": "python3"
  },
  "language_info": {
   "codemirror_mode": {
    "name": "ipython",
    "version": 3
   },
   "file_extension": ".py",
   "mimetype": "text/x-python",
   "name": "python",
   "nbconvert_exporter": "python",
   "pygments_lexer": "ipython3",
   "version": "3.7.5"
  }
 },
 "nbformat": 4,
 "nbformat_minor": 4
}
